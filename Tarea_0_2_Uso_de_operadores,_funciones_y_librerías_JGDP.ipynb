{
  "nbformat": 4,
  "nbformat_minor": 0,
  "metadata": {
    "colab": {
      "provenance": []
    },
    "kernelspec": {
      "name": "python3",
      "display_name": "Python 3"
    },
    "language_info": {
      "name": "python"
    }
  },
  "cells": [
    {
      "cell_type": "markdown",
      "source": [
        "Jonathan Diaz         29/08/2025"
      ],
      "metadata": {
        "id": "ehozo9FsdSV5"
      }
    },
    {
      "cell_type": "code",
      "source": [
        "# Código propio sin omptimizar\n",
        "import numpy as np\n",
        "\n",
        "def primos(n):\n",
        "  if n <= 2:\n",
        "    return []\n",
        "\n",
        "  listaPrimos=[2]\n",
        "\n",
        "  for num in range(3,n):\n",
        "    posiblesDivisores=np.arange(2,num)\n",
        "    residuos=num%posiblesDivisores\n",
        "    esDivisible=(residuos==0)\n",
        "    esPrimoCandidato=not esDivisible.any()\n",
        "\n",
        "    if esPrimoCandidato:\n",
        "      listaPrimos.append(num)\n",
        "\n",
        "  return listaPrimos\n",
        "\n",
        "print(f\">>>primos(15)\")\n",
        "print(primos(15))"
      ],
      "metadata": {
        "id": "hQ_DWOHtaBN1",
        "colab": {
          "base_uri": "https://localhost:8080/"
        },
        "outputId": "1e5cb6d1-6709-45dc-bd48-d9a92ae7782a"
      },
      "execution_count": 15,
      "outputs": [
        {
          "output_type": "stream",
          "name": "stdout",
          "text": [
            ">>>primos(15)\n",
            "[2, 3, 5, 7, 11, 13]\n"
          ]
        }
      ]
    },
    {
      "cell_type": "code",
      "source": [
        "#  Código optimizado por una IA\n",
        "import numpy as np\n",
        "\n",
        "def primos_optimizados(n):\n",
        "    if n <= 1:\n",
        "        return []\n",
        "\n",
        "    is_prime = np.ones(n, dtype=bool)\n",
        "    is_prime[0:2] = False\n",
        "\n",
        "    for i in range(2, int(np.sqrt(n)) + 1):\n",
        "        if is_prime[i]:\n",
        "            is_prime[i*i:n:i] = False\n",
        "\n",
        "    return np.where(is_prime)[0].tolist()\n",
        "\n",
        "print(f\">>>primos_optimizados(15)\")\n",
        "print(primos_optimizados(15))"
      ],
      "metadata": {
        "colab": {
          "base_uri": "https://localhost:8080/"
        },
        "id": "4gVuCSDkdtYh",
        "outputId": "d952a366-6772-4022-d49b-72fe8302fb3c"
      },
      "execution_count": 16,
      "outputs": [
        {
          "output_type": "stream",
          "name": "stdout",
          "text": [
            ">>>primos_optimizados(15)\n",
            "[2, 3, 5, 7, 11, 13]\n"
          ]
        }
      ]
    },
    {
      "cell_type": "markdown",
      "source": [
        "# Comparación de códigos\n",
        "Luego de pedirle a una inteligencia artificial que optimice mi código y compararlos, creo que me quedaría con mi código, principalmente porque lo entiendo mejor y si ocupo modificarle algo sería mas facíl y creo que la cantidad de renglones que tiene el código optimizado es muy parecido al que yo hice, lo único que le veo mejor es que el optimizado tiene menor variables, pero fuera de eso prefiero quedarme con mi código."
      ],
      "metadata": {
        "id": "YMIzTDkue0uG"
      }
    }
  ]
}