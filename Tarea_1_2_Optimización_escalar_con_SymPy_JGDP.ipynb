{
  "nbformat": 4,
  "nbformat_minor": 0,
  "metadata": {
    "colab": {
      "provenance": []
    },
    "kernelspec": {
      "name": "python3",
      "display_name": "Python 3"
    },
    "language_info": {
      "name": "python"
    }
  },
  "cells": [
    {
      "cell_type": "markdown",
      "source": [
        "# Problemas de optimización escalar\n",
        "Resuelva los siguientes problemas usando la librería `SymPy`. Use celdas en `Markdown` para explicar su procedimiento, así como los resultados obtenidos."
      ],
      "metadata": {
        "id": "wQWrkxnk8xAz"
      }
    },
    {
      "cell_type": "markdown",
      "source": [
        "Jonathan Diaz\n",
        "\n",
        "13/09/2025"
      ],
      "metadata": {
        "id": "Nh5ExqwsqkN4"
      }
    },
    {
      "cell_type": "markdown",
      "source": [
        "1. El perímetro de un triángulo isósceles es de $10 cm$. ¿Cuánto deben medir sus lados para que el volumen del cuerpo generado por la rotación del triángulo en torno a su base sea el mayor posible? (Volumen de un cono $= \\frac{1}{3}\\pi r^2 h$, donde $r$ es el radio de la base y $h$ la altura del cono)."
      ],
      "metadata": {
        "id": "7c9ab28c82ao"
      }
    },
    {
      "cell_type": "markdown",
      "source": [
        "**Solución:**\n",
        "\n",
        "La primera ecuación que podemos obtener es la del perímetros del triángulo el cual es de 10 cm:\n",
        "\n",
        "$10=b + 2l$\n",
        "\n",
        "En este caso necesitamos el volumen maximo del cono, para esto la altura y el radio. Al ser un triángulo isoceles el radio del cono es la mitad de la base y la atura del cono es la misma del tríangulo. Quedando la siguiente fórmula:\n",
        "\n",
        "$h=\\sqrt{(b^2-(b/2)^2)}$\n",
        "\n",
        "La fórmula del volumen es el siguiente:\n",
        "\n",
        "$V=\\frac{1}{3}\\pi r^2 h$\n",
        "\n",
        "Donde:\n",
        "b es la base del triángulo\n",
        "\n",
        "h es la altura del triángulo\n",
        "\n",
        "l es el lado del triángulo\n",
        "\n",
        "r es el radio de la base"
      ],
      "metadata": {
        "id": "XVeNCQBHqiO1"
      }
    },
    {
      "cell_type": "code",
      "source": [
        "import sympy as sym\n",
        "\n",
        "sym.var('b')\n",
        "def l():\n",
        "  return ((10-b)*(1/2))\n",
        "\n",
        "V =(1/3)*sym.pi*(b/2)**2*sym.sqrt(l()**2-(b/2)**2)\n",
        "\n",
        "dV_Db = sym.diff(V,b)\n",
        "bSol = sym.solve(dV_Db,b)\n",
        "lSol = 5- bSol[1]/2\n",
        "V_Max=(1/3)*sym.pi*(bSol[1]/2)**2*lSol\n",
        "\n",
        "f\"b: {bSol[1]}\", f\"l: {lSol}\", f\"V: {V_Max}\""
      ],
      "metadata": {
        "id": "qjLq0X9r88bz",
        "colab": {
          "base_uri": "https://localhost:8080/"
        },
        "outputId": "b45cf735-141d-48ae-d55e-27682f7b4c32"
      },
      "execution_count": 28,
      "outputs": [
        {
          "output_type": "execute_result",
          "data": {
            "text/plain": [
              "('b: 4.00000000000000', 'l: 3.00000000000000', 'V: 4.0*pi')"
            ]
          },
          "metadata": {},
          "execution_count": 28
        }
      ]
    },
    {
      "cell_type": "markdown",
      "source": [
        "**Respuesta:**\n",
        "\n",
        "\n",
        "Los lados óptimpos es $l=3\\;\\mathrm{m}$ y la base óptima es de $b=4\\;\\mathrm{m}$, consiguiendo un volumen máximo de $V=4 \\pi \\;\\mathrm{m^3}$."
      ],
      "metadata": {
        "id": "dTuOdEuGxX69"
      }
    },
    {
      "cell_type": "markdown",
      "source": [
        "---\n",
        "---"
      ],
      "metadata": {
        "id": "OHzZe6tKgSAb"
      }
    },
    {
      "cell_type": "markdown",
      "source": [
        "2. Disponemos de una barra de aluminio de 6 metros para construir una portería de fútbol. Si queremos que el área de la portería sea máxima, ¿cuánto deben medir los postes y el travesaño?"
      ],
      "metadata": {
        "id": "1kvio5Eq8_J4"
      }
    },
    {
      "cell_type": "markdown",
      "source": [
        "**Solución:**\n",
        "\n",
        "Como sabemos que una portería es un rectangulo usaremos la fórmula del área del rectángulo y para la fórmula del perímetro se usa la misma del rectángulo, pero tomando en cuenta que una de las bases no existe.\n",
        "\n",
        "Por lo tanto las fórmulas a seguir con las siguientes:\n",
        "\n",
        "$$Perímetro: 2h + b = 6, $$\n",
        "\n",
        "$$Area = b * h$$\n",
        "\n",
        "Donde:\n",
        "\n",
        "h son los postes\n",
        "\n",
        "b es el travesaño"
      ],
      "metadata": {
        "id": "ZApPCA1CoWbi"
      }
    },
    {
      "cell_type": "code",
      "source": [
        "import sympy as sym\n",
        "import numpy as np\n",
        "import matplotlib.pyplot as plt\n",
        "\n",
        "h, b=sym.symbols(\"h b\", real=True, positive= True)\n",
        "perimetro=2*h+b-6\n",
        "area=h*b\n",
        "\n",
        "bAr=sym.solve(perimetro, b)[0]\n",
        "areaAr=area.subs(b,bAr)\n",
        "\n",
        "areaDD=sym.diff(areaAr,h)\n",
        "hOptima=sym.solve(areaDD,h)[0]\n",
        "bOptima=bAr.subs(h, hOptima)\n",
        "areaOptima=hOptima*bOptima\n",
        "\n",
        "f\"h: {hOptima}\", f\"b: {bOptima}\", f\"A: {areaOptima}\""
      ],
      "metadata": {
        "id": "crqDqG8z9EjH",
        "colab": {
          "base_uri": "https://localhost:8080/"
        },
        "outputId": "c9b8ecd3-5c5a-42ed-f3d8-fcda14a24662"
      },
      "execution_count": null,
      "outputs": [
        {
          "output_type": "execute_result",
          "data": {
            "text/plain": [
              "('h: 3/2', 'b: 3', 'A: 9/2')"
            ]
          },
          "metadata": {},
          "execution_count": 14
        }
      ]
    },
    {
      "cell_type": "markdown",
      "source": [
        "**Respuesta:**\n",
        "\n",
        "La altura óptima es $h=1.5\\;\\mathrm{m}$ y la base óptima es de $b=3\\;\\mathrm{m}$, consiguiendo una área máxima de $A=4.5\\;\\mathrm{m^2}$.\n"
      ],
      "metadata": {
        "id": "Ej-TJfOXnRmK"
      }
    },
    {
      "cell_type": "markdown",
      "source": [
        "---\n",
        "---"
      ],
      "metadata": {
        "id": "4K4HK2jx5a3E"
      }
    }
  ]
}