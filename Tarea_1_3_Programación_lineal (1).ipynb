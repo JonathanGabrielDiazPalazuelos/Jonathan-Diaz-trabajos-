{
  "cells": [
    {
      "cell_type": "markdown",
      "source": [
        "Jonathan Diaz           24/09/2025"
      ],
      "metadata": {
        "id": "q7jpXKJ7QKIg"
      }
    },
    {
      "cell_type": "markdown",
      "metadata": {
        "id": "3R0dnOyuUGrZ"
      },
      "source": [
        "# Tarea - Programación lineal"
      ]
    },
    {
      "cell_type": "markdown",
      "metadata": {
        "id": "Mm8aodaIUGrc"
      },
      "source": [
        "### Diseño de la Dieta Óptima\n",
        "\n",
        "Se quiere producir comida para gatos de la manera más barata, no obstante se debe también asegurar que se cumplan los datos requeridos de analisis nutricional. Por lo que se quiere variar la cantidad de cada ingrediente para cumplir con los estandares nutricionales. Los requisitos que se tienen es que en $100$ gramos, se deben tener **por lo menos** $8$ gramos de proteína y $6$ gramos de grasa. Así mismo, no se debe tener más de $2$ gramos de fibra y $0.4$ gramos de sal.  \n",
        "\n",
        "Los datos nutricionales se pueden obtener de la siguiente tabla:\n",
        "\n",
        "Ingrediente|Proteína|Grasa|Fibra|Sal\n",
        ":----|----|----|----|----\n",
        "Pollo|  10.0%|08.0%|00.1%|00.2%\n",
        "Carne|  20.0%|10.0%|00.5%|00.5%\n",
        "Cordero|15.0%|11.0%|00.5%|00.7%\n",
        "Arroz|  00.0%|01.0%|10.0%|00.2%\n",
        "Trigo|  04.0%|01.0%|15.0%|00.8%\n",
        "Gel|    00.0%|00.0%|00.0%|00.0%\n",
        "\n",
        "Los costos de cada producto son:\n",
        "\n",
        "Ingrediente|Costo por gramo\n",
        ":----|----\n",
        "Pollo|$\\$$0.013\n",
        "Carne|$\\$$0.008\n",
        "Cordero|$\\$$0.010\n",
        "Arroz|$\\$$0.002\n",
        "Trigo|$\\$$0.005\n",
        "Gel|$\\$$0.001    \n",
        "\n",
        "Lo que se busca optimizar en este caso es la cantidad de productos que se debe utilizar en la comida de gato, minimizando el costo total. Para simplificar la notación use las siguientes variables:\n",
        "\n",
        "+ $x_1:$ Gramos de pollo  \n",
        "+ $x_2:$ Gramos de carne  \n",
        "+ $x_3:$ Gramos de cordero  \n",
        "+ $x_4:$ Gramos de arroz  \n",
        "+ $x_5:$ Gramos de trigo  \n",
        "+ $x_6:$ Gramos de gel\n",
        "\n",
        "La tarea consiste en plantear el problemade programación lineal que permita satisfacer las necesidades alimenticias del gato al tiempo que minimice el costo total y resolverlo con `linprog`."
      ]
    },
    {
      "cell_type": "markdown",
      "source": [
        "**Solución:**\n",
        "\n",
        "Se busca determinar la cantidad de cada ingrediente para una ración de $100\\;\\mathrm{g}$ de comida para gato, de tal forma que se **minimice el costo total** y se cumplan los requerimientos nutricionales.\n",
        "\n",
        "**Ecuación principal:**\n",
        "\n",
        "$$\n",
        "\\min Z = 0.013x_{1}+0.008x_{2}+0.010x_{3}+0.002x_{4}+0.005x_{5}+0.001x_{6}\n",
        "$$\n",
        "\n",
        "**Restricciones:**\n",
        "\n",
        "- **Peso total:**\n",
        "  $$\n",
        "  x_{1}+x_{2}+x_{3}+x_{4}+x_{5}+x_{6}=100 \\,\\text{g}\n",
        "  $$\n",
        "\n",
        "- **Proteína:**\n",
        "  $$\n",
        "  0.10x_{1}+0.20x_{2}+0.15x_{3}+0.01x_{4}+0.04x_{5}+0.00x_{6}\\geq 8\\,\\text{g}\n",
        "  $$\n",
        "\n",
        "- **Grasa:**\n",
        "  $$\n",
        "  0.08x_{1}+0.10x_{2}+0.11x_{3}+0.01x_{4}+0.01x_{5}+0.00x_{6}\\geq 6\\,\\text{g}\n",
        "  $$\n",
        "\n",
        "- **Fibra:**\n",
        "  $$\n",
        "  0.001x_{1}+0.005x_{2}+0.005x_{3}+0.10x_{4}+0.15x_{5}+0.00x_{6}\\leq 2\\,\\text{g}\n",
        "  $$\n",
        "\n",
        "- **Sal:**\n",
        "  $$\n",
        "  0.002x_{1}+0.005x_{2}+0.007x_{3}+0.002x_{4}+0.008x_{5}+0.000x_{6}\\leq 0.4\\,\\text{g}\n",
        "  $$"
      ],
      "metadata": {
        "id": "wk2SkNn4hXnA"
      }
    },
    {
      "cell_type": "code",
      "execution_count": null,
      "metadata": {
        "id": "QIXuFdVkUGrd",
        "colab": {
          "base_uri": "https://localhost:8080/"
        },
        "outputId": "e225957b-f18c-4874-c358-89bf91ebf503"
      },
      "outputs": [
        {
          "output_type": "execute_result",
          "data": {
            "text/plain": [
              "        message: Optimization terminated successfully. (HiGHS Status 7: Optimal)\n",
              "        success: True\n",
              "         status: 0\n",
              "            fun: 0.52\n",
              "              x: [ 0.000e+00  6.000e+01  0.000e+00  0.000e+00  0.000e+00\n",
              "                   4.000e+01]\n",
              "            nit: 2\n",
              "          lower:  residual: [ 0.000e+00  6.000e+01  0.000e+00  0.000e+00\n",
              "                              0.000e+00  4.000e+01]\n",
              "                 marginals: [ 6.400e-03  0.000e+00  1.300e-03  3.000e-04\n",
              "                              3.300e-03  0.000e+00]\n",
              "          upper:  residual: [       inf        inf        inf        inf\n",
              "                                    inf        inf]\n",
              "                 marginals: [ 0.000e+00  0.000e+00  0.000e+00  0.000e+00\n",
              "                              0.000e+00  0.000e+00]\n",
              "          eqlin:  residual: [ 0.000e+00]\n",
              "                 marginals: [ 1.000e-03]\n",
              "        ineqlin:  residual: [ 4.000e+00  0.000e+00  1.700e+00  1.000e-01]\n",
              "                 marginals: [-0.000e+00 -7.000e-02 -0.000e+00 -0.000e+00]\n",
              " mip_node_count: 0\n",
              " mip_dual_bound: 0.0\n",
              "        mip_gap: 0.0"
            ]
          },
          "metadata": {},
          "execution_count": 17
        }
      ],
      "source": [
        "import numpy as np\n",
        "import scipy.optimize as opt\n",
        "\n",
        "c=np.array([.013,.008,.01,.002,.005,.001])\n",
        "A=np.array([[-.1,-.2,-.15,-0,-.04,-0],\n",
        "            [-.08,-0.1,-.11,-.01,-.01,-0],\n",
        "            [.001,.005,.005,.1,.15,0],\n",
        "            [.002,.005,.007,.002,.008,0]])\n",
        "b=np.array([-8,-6,2,.4])\n",
        "Ae=np.array([[1,1,1,1,1,1]])\n",
        "be=np.array([100])\n",
        "bounds=(0,None)\n",
        "\n",
        "opt.linprog(c,A,b,Ae,be,bounds=bounds)"
      ]
    },
    {
      "cell_type": "markdown",
      "source": [
        "**Resultado:**\n",
        "\n",
        "El costo mínimo de la dieta es de $0.52\\;\\mathrm{pesos}$, con una composición de $60\\;\\mathrm{g}$ de carne y $40\\;\\mathrm{g}$ de gel.\n",
        "\n",
        "---"
      ],
      "metadata": {
        "id": "w63K-mR6hJCB"
      }
    },
    {
      "cell_type": "markdown",
      "metadata": {
        "id": "LNU9LvuhUGrf"
      },
      "source": [
        "### Problema de distribución de energía eléctrica\n",
        "\n",
        "La Comisión Federal de Electricidad **(CFE)** dispone de cuatro plantas de generación para satisfacer la demanda diaria eléctrica en cuatro ciudades, Guadalajara, León y Morelia. Las plantas $1$, $2$ y $3$ pueden satisfacer $80$, $40$ y $60$ millones de KW al día respectivamente. Las necesidades de las ciudades de Guadalajara, León y Morelia son de $70$, $40$ y $70$ millones de Kw al día respectivamente.\n",
        "\n",
        "\n",
        "Los costos asociados al envío de suministro energético por cada millón de Kw entre cada planta y cada ciudad son los registrados en la siguiente tabla.\n",
        "\n",
        "-|Guadalajara|León|Morelia\n",
        ":----|----|----|----\n",
        "Planta 1|5|2|7\n",
        "Planta 2|3|6|6\n",
        "Planta 3|6|1|2\n",
        "\n",
        "Y por último, las restricciones del problema, van a estar dadas por las capacidades de oferta y demanda de cada planta (en millones de KW) y cada ciudad.\n",
        "\n",
        "Para simplificar la notación use las siguientes variables:\n",
        "\n",
        "+ $x_1$: Kw (en millones) distribuidos de la Planta 1 a Guadalajara\n",
        "+ $x_2$: Kw (en millones) distribuidos de la Planta 1 a León\n",
        "+ $x_3$: Kw (en millones) distribuidos de la Planta 1 a Morelia\n",
        "+ $x_4$: Kw (en millones) distribuidos de la Planta 2 a Guadalajara\n",
        "+ $x_5$: Kw (en millones) distribuidos de la Planta 2 a León\n",
        "+ $x_6$: Kw (en millones) distribuidos de la Planta 2 a Morelia\n",
        "+ $x_7$: Kw (en millones) distribuidos de la Planta 3 a Guadalajara\n",
        "+ $x_8$: Kw (en millones) distribuidos de la Planta 3 a León\n",
        "+ $x_9$: Kw (en millones) distribuidos de la Planta 3 a Morelia\n",
        "\n",
        "La tarea consiste en plantear el problema de programación lineal que permita satisfacer las necesidades de todas las ciudades al tiempo que minimice los costos asociados a la distribución y resolverlo con `linprog`."
      ]
    },
    {
      "cell_type": "markdown",
      "source": [
        "**Solución:**\n",
        " La Comisión Federal de Electricidad (CFE) busca **minimizar el costo total de distribución** de energía eléctrica desde tres plantas a tres ciudades, respetando la capacidad de las plantas y la demanda de cada ciudad.\n",
        "\n",
        "**Ecuación principal:**\n",
        "\n",
        "$$\n",
        "\\min Z = 5x_{1}+2x_{2}+7x_{3}+3x_{4}+6x_{5}+6x_{6}+6x_{7}+1x_{8}+2x_{9}\n",
        "$$\n",
        "\n",
        "**Restricciones:**\n",
        "\n",
        "- **Capacidad de las plantas:**\n",
        "\n",
        "  - Planta 1:\n",
        "    $$\n",
        "    x_{1}+x_{2}+x_{3}\\leq 80\\;\\mathrm{MW}\n",
        "    $$\n",
        "\n",
        "  - Planta 2:\n",
        "    $$\n",
        "    x_{4}+x_{5}+x_{6}\\leq 40\\;\\mathrm{MW}\n",
        "    $$\n",
        "\n",
        "  - Planta 3:\n",
        "    $$\n",
        "    x_{7}+x_{8}+x_{9}\\leq 60\\;\\mathrm{MW}\n",
        "    $$\n",
        "\n",
        "- **Demanda de las ciudades:**\n",
        "\n",
        "  - Guadalajara:\n",
        "    $$\n",
        "    x_{1}+x_{4}+x_{7}\\geq 70\\;\\mathrm{MW}\n",
        "    $$\n",
        "\n",
        "  - León:\n",
        "    $$\n",
        "    x_{2}+x_{5}+x_{8}\\geq 40\\;\\mathrm{MW}\n",
        "    $$\n",
        "\n",
        "  - Morelia:\n",
        "    $$\n",
        "    x_{3}+x_{6}+x_{9}\\geq 70\\;\\mathrm{MW}\n",
        "    $$"
      ],
      "metadata": {
        "id": "r2MbKGyNg7nC"
      }
    },
    {
      "cell_type": "code",
      "execution_count": null,
      "metadata": {
        "id": "WZq8NlplUGrf",
        "colab": {
          "base_uri": "https://localhost:8080/"
        },
        "outputId": "78a7c96c-e425-4f2c-de27-92fb5eb6d665"
      },
      "outputs": [
        {
          "output_type": "execute_result",
          "data": {
            "text/plain": [
              "        message: Optimization terminated successfully. (HiGHS Status 7: Optimal)\n",
              "        success: True\n",
              "         status: 0\n",
              "            fun: 540.0\n",
              "              x: [ 3.000e+01  4.000e+01  1.000e+01  4.000e+01  0.000e+00\n",
              "                   0.000e+00  0.000e+00  0.000e+00  6.000e+01]\n",
              "            nit: 6\n",
              "          lower:  residual: [ 3.000e+01  4.000e+01  1.000e+01  4.000e+01\n",
              "                              0.000e+00  0.000e+00  0.000e+00  0.000e+00\n",
              "                              6.000e+01]\n",
              "                 marginals: [ 0.000e+00  0.000e+00  0.000e+00  0.000e+00\n",
              "                              6.000e+00  1.000e+00  6.000e+00  4.000e+00\n",
              "                              0.000e+00]\n",
              "          upper:  residual: [       inf        inf        inf        inf\n",
              "                                    inf        inf        inf        inf\n",
              "                                    inf]\n",
              "                 marginals: [ 0.000e+00  0.000e+00  0.000e+00  0.000e+00\n",
              "                              0.000e+00  0.000e+00  0.000e+00  0.000e+00\n",
              "                              0.000e+00]\n",
              "          eqlin:  residual: []\n",
              "                 marginals: []\n",
              "        ineqlin:  residual: [ 0.000e+00  0.000e+00  0.000e+00  0.000e+00\n",
              "                              0.000e+00  0.000e+00]\n",
              "                 marginals: [-0.000e+00 -2.000e+00 -5.000e+00 -5.000e+00\n",
              "                             -2.000e+00 -7.000e+00]\n",
              " mip_node_count: 0\n",
              " mip_dual_bound: 0.0\n",
              "        mip_gap: 0.0"
            ]
          },
          "metadata": {},
          "execution_count": 10
        }
      ],
      "source": [
        "import numpy as np\n",
        "import scipy.optimize as opt\n",
        "\n",
        "c=np.array([5,2,7,3,6,6,6,1,2])\n",
        "A=np.array([[1,1,1,0,0,0,0,0,0],\n",
        "            [0,0,0,1,1,1,0,0,0],\n",
        "            [0,0,0,0,0,0,1,1,1],\n",
        "            [-1,0,0,-1,0,0,-1,0,0],\n",
        "            [0,-1,0,0,-1,0,0,-1,0],\n",
        "            [0,0,-1,0,0,-1,0,0,-1]])\n",
        "b=np.array([80,40,60,-70,-40,-70])\n",
        "\n",
        "opt.linprog(c,A,b)"
      ]
    },
    {
      "cell_type": "markdown",
      "source": [
        "**Resultado:**\n",
        "\n",
        "El costo mínimo de distribución es de $540\\;\\mathrm{millones}$\n",
        "\n",
        "---"
      ],
      "metadata": {
        "id": "bbFej0uhg-02"
      }
    },
    {
      "cell_type": "markdown",
      "metadata": {
        "id": "MiH0zdPgUGrf"
      },
      "source": [
        "### Fábrica de focos\n",
        "\n",
        "Una fábrica produce focos incandesentes y los vende a 4.5 u.m., además de focos ahorradores que vende a 6 u.m. cada uno. La producción está limitada a 400 focos incandesentes y 300 focos ahorradores al día, además de no poder producir más de 500 focos en total.\n",
        "\n",
        "Si la fábrica vende toda su producción, determina cuántos focos incandesentes y cuántos focos ahorradores debe producir para obtener los máximos ingresos posibles y cuáles serían éstos."
      ]
    },
    {
      "cell_type": "markdown",
      "source": [
        "**Solución**:\n",
        "\n",
        "Se busca **maximizar los ingresos** de una fábrica que produce focos incandescentes y ahorradores, con límites en la producción individual y total.\n",
        "\n",
        "**Ecuación principal:**\n",
        "\n",
        "$$\n",
        "\\max= 4.5x_{1}+6x_{2}\n",
        "$$\n",
        "\n",
        "**Restricciones:**\n",
        "\n",
        "- **Límite de producción individual:**\n",
        "\n",
        "  - Incandescentes:\n",
        "    $$\n",
        "    x_{1}\\leq 400\\;\\mathrm{focos}\n",
        "    $$\n",
        "\n",
        "  - Ahorradores:\n",
        "    $$\n",
        "    x_{2}\\leq 300\\;\\mathrm{focos}\n",
        "    $$\n",
        "\n",
        "- **Límite de producción total:**\n",
        "  $$\n",
        "  x_{1}+x_{2}\\leq 500\\;\\mathrm{focos}\n",
        "  $$\n"
      ],
      "metadata": {
        "id": "bQqAODR-hATC"
      }
    },
    {
      "cell_type": "code",
      "execution_count": null,
      "metadata": {
        "id": "mbVZNMtfUGrf",
        "colab": {
          "base_uri": "https://localhost:8080/"
        },
        "outputId": "1efe6b59-bf58-446e-f5e1-2d6420e59671"
      },
      "outputs": [
        {
          "output_type": "execute_result",
          "data": {
            "text/plain": [
              "        message: Optimization terminated successfully. (HiGHS Status 7: Optimal)\n",
              "        success: True\n",
              "         status: 0\n",
              "            fun: -2700.0\n",
              "              x: [ 2.000e+02  3.000e+02]\n",
              "            nit: 1\n",
              "          lower:  residual: [ 2.000e+02  3.000e+02]\n",
              "                 marginals: [ 0.000e+00  0.000e+00]\n",
              "          upper:  residual: [       inf        inf]\n",
              "                 marginals: [ 0.000e+00  0.000e+00]\n",
              "          eqlin:  residual: []\n",
              "                 marginals: []\n",
              "        ineqlin:  residual: [ 2.000e+02  0.000e+00  0.000e+00]\n",
              "                 marginals: [-0.000e+00 -1.500e+00 -4.500e+00]\n",
              " mip_node_count: 0\n",
              " mip_dual_bound: 0.0\n",
              "        mip_gap: 0.0"
            ]
          },
          "metadata": {},
          "execution_count": 3
        }
      ],
      "source": [
        "import numpy as np\n",
        "import scipy.optimize as opt\n",
        "\n",
        "c=np.array([-4.5,-6])\n",
        "A=np.array([[1,0],\n",
        "            [0,1],\n",
        "            [1,1]])\n",
        "b=np.array([400,300,500])\n",
        "\n",
        "opt.linprog(c,A,b)"
      ]
    },
    {
      "cell_type": "markdown",
      "source": [
        "**Resultado:**\n",
        "\n",
        "El ingreso máximo es de $2700\\;\\mathrm{u.m.}$ produciendo $200\\;\\mathrm{ incadesentes}$ y $\\$300\\;\\mathrm{ahorradores}$\n",
        "\n",
        "----"
      ],
      "metadata": {
        "id": "VNOpcAZXhB1Z"
      }
    },
    {
      "cell_type": "markdown",
      "metadata": {
        "id": "x3t8pPXwUGrg"
      },
      "source": [
        "### Problema de compra al mayoreo\n",
        "Un frutero necesita 16 cajas de naranjas, 5 de plátanos y 20 de manzanas. Dos mayoristas pueden suministrarle para satisfacer sus necesidades, pero sólo venden la fruta en contenedores completos. El mayorista A envía en cada contenedor 8 cajas de naranjas, 1 de plátanos y 2 de manzanas. El mayorista B envía en cada contenedor 2 cajas de naranjas, una de plátanos y 7 de manzanas. Sabiendo que cada contenedor del mayorista A tiene un costo de 150 u.m. y el contenedor del mayorista B de 300 u.m., calcular cuántos contenedores habrá de comprar a cada mayorista, con objeto de reducir al mínimo el costo de lo solicitado."
      ]
    },
    {
      "cell_type": "markdown",
      "source": [
        "**Solución:**\n",
        "\n",
        "Un frutero necesita comprar contenedores de fruta a dos mayoristas diferentes para satisfacer su demanda, **minimizando el costo total**.\n",
        "\n",
        "**Ecuación principal:**\n",
        "\n",
        "$$\n",
        "\\min Z = 150x_{1}+300x_{2}\n",
        "$$\n",
        "\n",
        "**Restricciones:**\n",
        "\n",
        "- **Naranjas:**\n",
        "  $$\n",
        "  8x_{1}+2x_{2}\\geq 16\\;\\mathrm{kg}\n",
        "  $$\n",
        "\n",
        "- **Plátanos:**\n",
        "  $$\n",
        "  x_{1}+x_{2}\\geq 5\\;\\mathrm{kg}\n",
        "  $$\n",
        "\n",
        "- **Manzanas:**\n",
        "  $$\n",
        "  2x_{1}+7x_{2}\\geq 20\\;\\mathrm{kg}\n",
        "  $$"
      ],
      "metadata": {
        "id": "HyV6oWPZhOCM"
      }
    },
    {
      "cell_type": "code",
      "execution_count": null,
      "metadata": {
        "colab": {
          "base_uri": "https://localhost:8080/"
        },
        "id": "2nmxToXuUGrg",
        "outputId": "58d2fb9c-3e78-4f67-b398-433905e3b896"
      },
      "outputs": [
        {
          "output_type": "execute_result",
          "data": {
            "text/plain": [
              "        message: Optimization terminated successfully. (HiGHS Status 7: Optimal)\n",
              "        success: True\n",
              "         status: 0\n",
              "            fun: 1050.0\n",
              "              x: [ 3.000e+00  2.000e+00]\n",
              "            nit: 3\n",
              "          lower:  residual: [ 3.000e+00  2.000e+00]\n",
              "                 marginals: [ 0.000e+00  0.000e+00]\n",
              "          upper:  residual: [       inf        inf]\n",
              "                 marginals: [ 0.000e+00  0.000e+00]\n",
              "          eqlin:  residual: []\n",
              "                 marginals: []\n",
              "        ineqlin:  residual: [ 1.200e+01  0.000e+00  0.000e+00]\n",
              "                 marginals: [-0.000e+00 -9.000e+01 -3.000e+01]\n",
              " mip_node_count: 0\n",
              " mip_dual_bound: 0.0\n",
              "        mip_gap: 0.0"
            ]
          },
          "metadata": {},
          "execution_count": 1
        }
      ],
      "source": [
        "import numpy as np\n",
        "import scipy.optimize as opt\n",
        "\n",
        "c=np.array([150,300])\n",
        "A=np.array([[-8,-2],\n",
        "            [-1,-1],\n",
        "            [-2,-7]])\n",
        "b=np.array([-16,-5,-20,])\n",
        "opt.linprog(c,A,b)"
      ]
    },
    {
      "cell_type": "markdown",
      "source": [
        "**Resultado:**\n",
        "\n",
        "El costo mínimo es de $1050\\;\\mathrm{u.m.}$, comprando al mayorista **A** $3\\;\\mathrm{contenedores}$ y comprando al mayorista **B** $2\\;\\mathrm{contenedores}$\n",
        "\n",
        "---"
      ],
      "metadata": {
        "id": "gx4qheDdhSns"
      }
    }
  ],
  "metadata": {
    "kernelspec": {
      "display_name": "Python 3 (ipykernel)",
      "language": "python",
      "name": "python3"
    },
    "language_info": {
      "codemirror_mode": {
        "name": "ipython",
        "version": 3
      },
      "file_extension": ".py",
      "mimetype": "text/x-python",
      "name": "python",
      "nbconvert_exporter": "python",
      "pygments_lexer": "ipython3",
      "version": "3.9.12"
    },
    "colab": {
      "provenance": []
    }
  },
  "nbformat": 4,
  "nbformat_minor": 0
}