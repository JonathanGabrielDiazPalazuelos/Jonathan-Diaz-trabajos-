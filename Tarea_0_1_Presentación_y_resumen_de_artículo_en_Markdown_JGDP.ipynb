{
  "nbformat": 4,
  "nbformat_minor": 0,
  "metadata": {
    "colab": {
      "provenance": []
    },
    "kernelspec": {
      "name": "python3",
      "display_name": "Python 3"
    },
    "language_info": {
      "name": "python"
    }
  },
  "cells": [
    {
      "cell_type": "markdown",
      "source": [
        "#Presentación personal:\n",
        "\n",
        "*   **Nombre:** Jonathan Gabriel Diaz Palazuelos\n",
        "*   **Carrera:** Ingeniería civil\n",
        "*   **Semestre:** Quinto\n",
        "*   **Hobby:** Jugar futbol\n",
        "\n",
        "\n",
        "#Resumen de noticia:\n",
        "## Lluvia matutina colapsa vialidades y tranporte en Guadalajara\n",
        "\n",
        "Una intensa y prolongada lluvia en Guadalajara causó un caos generalizado este miércoles 20 de Agosto. Desde el amanecer, la tormenta provocó inundaciones, cierres viales y retrasos en el transporte público, afectando al tren ligero y el macrobús.\n",
        "Además, la precipitación caó a la luz los problemas crónicos de la ciudad. Los bomberos hallaron restos humanos tras desazolvar un canal, y un nuevo socavón en la zona insdustrial porvocó la caída de un camión. Se realizaron rescates de personas atrapadas en sus autos, y se reportaron daños materiales, especialmente en 150 puestos de un tianguis. La tormenta fue la más copiosa de lo que va del año con 80 litros por metro cuadrado, también fue registrada en un video viral de menores rezalizando clavados en una zona inundada.\n",
        "\n",
        "###Referencia:\n",
        " https://www.jornada.com.mx/noticia/2025/08/20/estados/lluvia-matutina-colapsa-vialidades-y-transporte-en-guadalajara\n",
        "\n",
        "\n",
        "\n"
      ],
      "metadata": {
        "id": "wHo2WoX8HW6-"
      }
    }
  ]
}